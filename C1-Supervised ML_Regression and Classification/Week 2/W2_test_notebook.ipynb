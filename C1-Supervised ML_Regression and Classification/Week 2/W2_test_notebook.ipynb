{
 "cells": [
  {
   "cell_type": "markdown",
   "metadata": {},
   "source": [
    "# Numpy and Vectorization"
   ]
  },
  {
   "cell_type": "markdown",
   "metadata": {},
   "source": [
    "Using numpy arrays for linear algebra is very efficient both for code-writing and computationally."
   ]
  },
  {
   "cell_type": "code",
   "execution_count": 1,
   "metadata": {},
   "outputs": [],
   "source": [
    "import numpy as np\n",
    "import time"
   ]
  },
  {
   "cell_type": "markdown",
   "metadata": {},
   "source": [
    "Numpy includes more numeric types, vectors, matrices, and matrix functions that base python doesn't support.\n",
    "\n",
    "Python arithmetic operators work on numpy data types and many numpy functions accept python data types."
   ]
  },
  {
   "cell_type": "markdown",
   "metadata": {},
   "source": [
    "## Vectors\n",
    "- Vectors are ordered arrays of numbers. \n",
    "- The elements of a vector are all the same type.\n",
    "- The number of elements in the array is referred to as *dimension* or *rank* \"n\"\n",
    "- Index is the element of a vector. In python, indexing runs from $x_0$ to $x_n-_1$\n"
   ]
  },
  {
   "cell_type": "markdown",
   "metadata": {},
   "source": [
    "## Arrays\n",
    "Numpy's basic data structure is an indexable n-dimensional array containing elements of the same dtype.\n",
    "Here, dimension refers to the number of indexes of an array"
   ]
  },
  {
   "cell_type": "markdown",
   "metadata": {},
   "source": [
    "## Vector creation\n",
    "Numpy data creation routines have a first parameter, the shape of the object. It can be a single value, a tuple, or other functions\n"
   ]
  },
  {
   "cell_type": "code",
   "execution_count": 3,
   "metadata": {},
   "outputs": [
    {
     "name": "stdout",
     "output_type": "stream",
     "text": [
      "np.zeros(4) :   a = [0. 0. 0. 0.], a shape = (4,)\n",
      "np.zeros(4,) :  a = [0. 0. 0. 0.], a shape = (4,)\n",
      "np.zeros(4,4): a = [[0. 0. 0. 0.]\n",
      " [0. 0. 0. 0.]\n",
      " [0. 0. 0. 0.]\n",
      " [0. 0. 0. 0.]], a shape = (4, 4)\n",
      "np.random.random_sample(4): a = [0.81279037 0.28287954 0.746396   0.33818884], a shape = (4,)\n"
     ]
    }
   ],
   "source": [
    "# Produces arrays of 0's, useful for building a data container\n",
    "a = np.zeros(4); print(f\"np.zeros(4) :   a = {a}, a shape = {a.shape}\")\n",
    "a = np.zeros((4,)); print(f\"np.zeros(4,) :  a = {a}, a shape = {a.shape}\")\n",
    "a = np.zeros((4,4)); print(f\"np.zeros(4,4): a = {a}, a shape = {a.shape}\")\n",
    "# Generate random floats from 0 to 1\n",
    "a = np.random.random_sample(4); print(f\"np.random.random_sample(4): a = {a}, a shape = {a.shape}\")"
   ]
  },
  {
   "cell_type": "markdown",
   "metadata": {},
   "source": [
    "Some data creation routines don't take a tuple (they only receive scalars) "
   ]
  },
  {
   "cell_type": "code",
   "execution_count": 12,
   "metadata": {},
   "outputs": [
    {
     "name": "stdout",
     "output_type": "stream",
     "text": [
      "np.arange(4.):     a = [0. 1. 2. 3. 4. 5. 6. 7. 8. 9.], a shape = (10,)\n",
      "np.random.rand(4): a = [[0.19104916 0.3685134 ]\n",
      " [0.28215562 0.49664503]\n",
      " [0.23652574 0.68018303]\n",
      " [0.70030055 0.55624855]\n",
      " [0.78327524 0.75445803]\n",
      " [0.75601888 0.0471009 ]\n",
      " [0.30810343 0.02222786]\n",
      " [0.93980188 0.95539408]\n",
      " [0.80703379 0.26591955]\n",
      " [0.28693882 0.01414412]], a shape = (10, 2)\n"
     ]
    }
   ],
   "source": [
    "a = np.arange(10.); print(f\"np.arange(4.):     a = {a}, a shape = {a.shape}\")\n",
    "a = np.random.rand(10,2); print(f\"np.random.rand(4): a = {a}, a shape = {a.shape}\")"
   ]
  },
  {
   "cell_type": "markdown",
   "metadata": {},
   "source": [
    "Manual specification, note that if one of the numbers has a \".\", then the whole array becomes a float type."
   ]
  },
  {
   "cell_type": "code",
   "execution_count": 13,
   "metadata": {},
   "outputs": [
    {
     "name": "stdout",
     "output_type": "stream",
     "text": [
      "np.array([5,4,3,2]):  a = [5 4 3 2],     a shape = (4,), a data type = int32\n",
      "np.array([5.,4,3,2]): a = [5. 4. 3. 2.], a shape = (4,), a data type = float64\n"
     ]
    }
   ],
   "source": [
    "a = np.array([5,4,3,2]);  print(f\"np.array([5,4,3,2]):  a = {a},     a shape = {a.shape}, a data type = {a.dtype}\")\n",
    "a = np.array([5.,4,3,2]); print(f\"np.array([5.,4,3,2]): a = {a}, a shape = {a.shape}, a data type = {a.dtype}\")"
   ]
  },
  {
   "cell_type": "markdown",
   "metadata": {},
   "source": [
    "## Operations"
   ]
  },
  {
   "cell_type": "markdown",
   "metadata": {},
   "source": [
    "### Indexing\n",
    "One can access and slice numpy arrays similarly to python data structures. \n",
    "\n",
    "for indexing, you use \"array[i]\""
   ]
  },
  {
   "cell_type": "code",
   "execution_count": 19,
   "metadata": {},
   "outputs": [
    {
     "name": "stdout",
     "output_type": "stream",
     "text": [
      "[0 1 2 3 4 5 6 7 8 9]\n",
      "a[2]  = 2, a[0] = 0, Accessing an element returns a scalar\n",
      "a[-1] = 9, a[-2] = 8\n",
      "a[10] = The error message you'll see is:\n",
      "index 10 is out of bounds for axis 0 with size 10\n"
     ]
    }
   ],
   "source": [
    "# Vector indexing operations on a 1 D vector\n",
    "a = np.arange(10)\n",
    "print(a)\n",
    "\n",
    "# Access an element\n",
    "print(f\"a[2]  = {a[2]}, a[0] = {a[0]}, Accessing an element returns a scalar\")\n",
    "\n",
    "# negative indexes count from the end\n",
    "print(f\"a[-1] = {a[-1]}, a[-2] = {a[-2]}\")  \n",
    "\n",
    "# If an index is out of range, it will produce an error.\n",
    "try:\n",
    "    c = a[10]\n",
    "except Exception as e:\n",
    "    print(\"a[10] = The error message you'll see is:\")\n",
    "    print(e)"
   ]
  },
  {
   "cell_type": "markdown",
   "metadata": {},
   "source": [
    "### Slicing\n",
    "Slicing creates a new array using a set of three values: (**`start:stop:step`**). "
   ]
  },
  {
   "cell_type": "code",
   "execution_count": 22,
   "metadata": {},
   "outputs": [
    {
     "name": "stdout",
     "output_type": "stream",
     "text": [
      "a         = [0 1 2 3 4 5 6 7 8 9]\n",
      "a[2:7:1] =  [2 3 4 5 6]\n",
      "a[2:7:2] =  [2 4 6]\n",
      "a[3:]    =  [3 4 5 6 7 8 9]\n",
      "a[:3]    =  [0 1 2]\n",
      "a[:]     =  [0 1 2 3 4 5 6 7 8 9]\n"
     ]
    }
   ],
   "source": [
    "#vector slicing operations\n",
    "a = np.arange(10)\n",
    "print(f\"a         = {a}\")\n",
    "\n",
    "# Access elements 3 to 7\n",
    "c = a[2:7:1];  print(\"a[2:7:1] = \", c)\n",
    "\n",
    "# Access the same elements, separated by two\n",
    "c = a[2:7:2];     print(\"a[2:7:2] = \", c)\n",
    "\n",
    "# Access all elements index 3 (fourth element) and above\n",
    "c = a[3:];        print(\"a[3:]    = \", c)\n",
    "\n",
    "# Access all elements below index 3\n",
    "c = a[:3];        print(\"a[:3]    = \", c)\n",
    "\n",
    "# Access all elements\n",
    "c = a[:];         print(\"a[:]     = \", c)"
   ]
  },
  {
   "cell_type": "markdown",
   "metadata": {},
   "source": [
    "### Single vector operations"
   ]
  },
  {
   "cell_type": "code",
   "execution_count": 23,
   "metadata": {},
   "outputs": [
    {
     "name": "stdout",
     "output_type": "stream",
     "text": [
      "a             : [1 2 3 4]\n",
      "b = -a      :  [-1 -2 -3 -4]\n",
      "b = np.sum(a) : 10\n",
      "b = np.mean(a): 2.5\n",
      "b = a**2     :  [ 1  4  9 16]\n",
      "b = np.sqrt(a): [1.         1.41421356 1.73205081 2.        ]\n"
     ]
    }
   ],
   "source": [
    "a = np.array([1,2,3,4])\n",
    "print(f\"a             : {a}\")\n",
    "\n",
    "# Negate elements of a\n",
    "b = -a\n",
    "print(f\"b = -a      :  {b}\")\n",
    "\n",
    "# Sum of all elements\n",
    "b = np.sum(a)\n",
    "print(f\"b = np.sum(a) : {b}\")\n",
    "\n",
    "# Mean of all elements\n",
    "b = np.mean(a)\n",
    "print(f\"b = np.mean(a): {b}\")\n",
    "\n",
    "# Power of all elements\n",
    "b = a**2\n",
    "print(f\"b = a**2     :  {b}\")\n",
    "\n",
    "# square root of all elements\n",
    "b = np.sqrt(a)\n",
    "print(f\"b = np.sqrt(a): {b}\")\n",
    "\n"
   ]
  },
  {
   "cell_type": "markdown",
   "metadata": {},
   "source": [
    "### Vector - Vector operations (elements)\n",
    "\n",
    "Numpy's arithmetic, logical and comparison operations apply to vectors. These operators work on an element-by-element basis. The vectors must be of the same size"
   ]
  },
  {
   "cell_type": "code",
   "execution_count": 26,
   "metadata": {},
   "outputs": [
    {
     "name": "stdout",
     "output_type": "stream",
     "text": [
      "Binary operators work element wise: \n",
      "a + b =[0 0 6 8]\n",
      "a <= b =[False False  True  True]\n",
      "a >= b =[ True  True  True  True]\n",
      "np.exp(a) = [ 2.71828183  7.3890561  20.08553692 54.59815003]\n",
      "np.log(a) = [0.         0.69314718 1.09861229 1.38629436]\n"
     ]
    }
   ],
   "source": [
    "a = np.array([ 1, 2, 3, 4])\n",
    "b = np.array([-1,-2, 3, 4])\n",
    "print(f\"Binary operators work element wise: \")\n",
    "print(f\"a + b ={a + b}\")\n",
    "print(f\"a <= b ={a <= b}\")\n",
    "print(f\"a >= b ={a >= b}\")\n",
    "# exponential and log functions\n",
    "print(f\"np.exp(a) = {np.exp(a)}\")\n",
    "print(f\"np.log(a) = {np.log(a)}\")\n"
   ]
  },
  {
   "cell_type": "markdown",
   "metadata": {},
   "source": [
    "### Scalar vector operations\n",
    "Vectors can be scaled by scalar values (numbers). The scalar multiplies all the elements of the vector."
   ]
  },
  {
   "cell_type": "code",
   "execution_count": 27,
   "metadata": {},
   "outputs": [
    {
     "name": "stdout",
     "output_type": "stream",
     "text": [
      "b = 5 * a : [ 5 10 15 20]\n"
     ]
    }
   ],
   "source": [
    "a = np.array([1,2,3,4])\n",
    "b = 5 * a\n",
    "print(f\"b = 5 * a : {b}\")"
   ]
  },
  {
   "cell_type": "markdown",
   "metadata": {},
   "source": [
    "### Dot product\n",
    "The dot product is a scalar obtained from the sum of the multiplication of each element [i] of two vectors.\n",
    "\n",
    "mathematically it's the proyection of each vector over each other. Practically, it's a simplification of the data, while still mantaining information.\n",
    "\n",
    "$$ x = \\sum_{i=0}^{n-1} a_i b_i $$"
   ]
  },
  {
   "cell_type": "code",
   "execution_count": 31,
   "metadata": {},
   "outputs": [
    {
     "name": "stdout",
     "output_type": "stream",
     "text": [
      "dot(a,b) = 24\n"
     ]
    }
   ],
   "source": [
    "# Implementation with a for loop\n",
    "a = np.array([1, 2, 3, 4])\n",
    "b = np.array([-1, 4, 3, 2])\n",
    "\n",
    "def dot(a, b):\n",
    "    x = 0\n",
    "    for i in range(a.shape[0]):\n",
    "        x += a[i] * b[i]\n",
    "    return x\n",
    "\n",
    "print(f\"dot(a,b) = {dot(a,b)}\")\n"
   ]
  },
  {
   "cell_type": "markdown",
   "metadata": {},
   "source": [
    "To use a vectorized approach, one uses np.dot(a, b)"
   ]
  },
  {
   "cell_type": "code",
   "execution_count": 32,
   "metadata": {},
   "outputs": [
    {
     "name": "stdout",
     "output_type": "stream",
     "text": [
      "NumPy 1-D np.dot(b, a) = 24, np.dot(a, b).shape = () \n",
      "NumPy 1-D np.dot(a, b) = 24, np.dot(a, b).shape = () \n"
     ]
    }
   ],
   "source": [
    "\n",
    "c = np.dot(b, a)\n",
    "print(f\"NumPy 1-D np.dot(b, a) = {c}, np.dot(a, b).shape = {c.shape} \")\n",
    "\n",
    "c = np.dot(a, b)\n",
    "print(f\"NumPy 1-D np.dot(a, b) = {c}, np.dot(a, b).shape = {c.shape} \") \n"
   ]
  },
  {
   "cell_type": "markdown",
   "metadata": {},
   "source": [
    "### Vector Vector operations\n",
    "\n",
    "These operations are frequently used in ML. on the first course (supervised learning) we frequently use:\n",
    "\n",
    "m = number of observations, n = number of features or columns\n",
    "\n",
    "X is a 2 Dimensional array shape (m,n)\n",
    "\n",
    "W is a 1 dimensional vector of shape (n)"
   ]
  },
  {
   "cell_type": "code",
   "execution_count": 33,
   "metadata": {},
   "outputs": [
    {
     "name": "stdout",
     "output_type": "stream",
     "text": [
      "X[1] has shape (1,)\n",
      "w has shape (1,)\n",
      "c has shape ()\n"
     ]
    }
   ],
   "source": [
    "X = np.array([[1],[2],[3],[4]])\n",
    "w = np.array([2])\n",
    "c = np.dot(X[1], w)\n",
    "\n",
    "print(f\"X[1] has shape {X[1].shape}\")\n",
    "print(f\"w has shape {w.shape}\")\n",
    "print(f\"c has shape {c.shape}\")"
   ]
  },
  {
   "cell_type": "markdown",
   "metadata": {},
   "source": [
    "## Matrices"
   ]
  },
  {
   "attachments": {
    "image.png": {
     "image/png": "[encoded data removed]"
    }
   },
   "cell_type": "markdown",
   "metadata": {},
   "source": [
    "2 D arrays. matrices are denoted with captol, bold letter such as $\\mathbf{X}$. \"m\" are the observations and n the columns or features. The elements of a matrix can be referenced with a 2 dimensional index. Indexing will run from 0 to n-1\n",
    "![image.png](attachment:image.png)"
   ]
  },
  {
   "cell_type": "markdown",
   "metadata": {},
   "source": [
    "### Numpy arrays\n",
    "2-D matrices are used to hold training data. Training data is m examples by n features.\n",
    "\n",
    "One can extract an example as a vector and operate on that."
   ]
  },
  {
   "cell_type": "markdown",
   "metadata": {},
   "source": [
    "Each nested bracket is a row, and each number in these brackets is a column of that row."
   ]
  },
  {
   "cell_type": "code",
   "execution_count": 35,
   "metadata": {},
   "outputs": [
    {
     "name": "stdout",
     "output_type": "stream",
     "text": [
      " a shape = (3, 3), np.array: a = [[5 4 3]\n",
      " [4 3 2]\n",
      " [3 2 1]]\n",
      " a shape = (3, 1), np.array: a = [[5]\n",
      " [4]\n",
      " [3]]\n"
     ]
    }
   ],
   "source": [
    "# NumPy routines which allocate memory and fill with user specified values\n",
    "a = np.array([[5,4,3], [4,3,2], [3,2,1]]);   print(f\" a shape = {a.shape}, np.array: a = {a}\")\n",
    "a = np.array([[5],   # One can also\n",
    "              [4],   # separate values\n",
    "              [3]]); #into separate rows\n",
    "print(f\" a shape = {a.shape}, np.array: a = {a}\")"
   ]
  },
  {
   "cell_type": "markdown",
   "metadata": {},
   "source": [
    "### Indexing\n",
    "\n",
    "matrices include a second index. specifying only 1 number on the index will return a whole vector"
   ]
  },
  {
   "cell_type": "code",
   "execution_count": 39,
   "metadata": {},
   "outputs": [
    {
     "name": "stdout",
     "output_type": "stream",
     "text": [
      "a.shape: (3, 2), \n",
      "a= [[0 1]\n",
      " [2 3]\n",
      " [4 5]]\n",
      "\n",
      "  a[2,0] = 4, Accessing an element returns a scalar\n",
      " \n",
      "a[2].shape:   (2,), a[2]   = [4 5], type(a[2])   = <class 'numpy.ndarray'>\n"
     ]
    }
   ],
   "source": [
    "a = np.arange(6).reshape(-1,2) #Reshaping rearanges the vector to matrix form\n",
    "print(f\"a.shape: {a.shape}, \\na= {a}\")\n",
    "\n",
    "#access an element, [row, column]\n",
    "print(f\"\\n  a[2,0] = {a[2, 0]}, Accessing an element returns a scalar\\n \")\n",
    "\n",
    "#access a row\n",
    "print(f\"a[2].shape:   {a[2].shape}, a[2]   = {a[2]}, type(a[2])   = {type(a[2])}\")"
   ]
  },
  {
   "cell_type": "markdown",
   "metadata": {},
   "source": [
    "### Reshape\n",
    "As shown in the previous example, arrays can be reshaped. if an argument is set to \"-1\", the routine will compute an adequate number of rows given the size of the array and the desired columns."
   ]
  },
  {
   "cell_type": "markdown",
   "metadata": {},
   "source": [
    "### Slicing\n"
   ]
  },
  {
   "cell_type": "code",
   "execution_count": 40,
   "metadata": {},
   "outputs": [
    {
     "name": "stdout",
     "output_type": "stream",
     "text": [
      "a = \n",
      "[[ 0  1  2  3  4  5  6  7  8  9]\n",
      " [10 11 12 13 14 15 16 17 18 19]]\n"
     ]
    }
   ],
   "source": [
    "#vector 2-D slicing operations\n",
    "a = np.arange(20).reshape(-1, 10)\n",
    "print(f\"a = \\n{a}\")"
   ]
  },
  {
   "cell_type": "code",
   "execution_count": 44,
   "metadata": {},
   "outputs": [
    {
     "name": "stdout",
     "output_type": "stream",
     "text": [
      "a[0, 2:7:1] =  [2 3 4 5 6] ,  a[0, 2:7:1].shape = (5,) a 1-D array\n",
      "a[:, 2:7:1] = \n",
      " [[ 2  3  4  5  6]\n",
      " [12 13 14 15 16]] ,  a[:, 2:7:1].shape = (2, 5) a 2-D array\n",
      "a[:,:] = \n",
      " [[ 0  1  2  3  4  5  6  7  8  9]\n",
      " [10 11 12 13 14 15 16 17 18 19]] ,  a[:,:].shape = (2, 10)\n",
      "a[1,:] =  [10 11 12 13 14 15 16 17 18 19] ,  a[1,:].shape = (10,) a 1-D array\n",
      "a[1]   =  [10 11 12 13 14 15 16 17 18 19] ,  a[1].shape   = (10,) a 1-D array\n"
     ]
    }
   ],
   "source": [
    "\n",
    "#access 5 consecutive elements at the first row (start:stop:step)\n",
    "print(\"a[0, 2:7:1] = \", a[0, 2:7:1], \",  a[0, 2:7:1].shape =\", a[0, 2:7:1].shape, \"a 1-D array\")\n",
    "\n",
    "\n",
    "#access 5 consecutive elements (start:stop:step) in two rows\n",
    "print(\"a[:, 2:7:1] = \\n\", a[:, 2:7:1], \",  a[:, 2:7:1].shape =\", a[:, 2:7:1].shape, \"a 2-D array\")\n",
    "\n",
    "# access all elements\n",
    "print(\"a[:,:] = \\n\", a[:,:], \",  a[:,:].shape =\", a[:,:].shape)\n",
    "\n",
    "\n",
    "# access all elements in one row (very common usage)\n",
    "print(\"a[1,:] = \", a[1,:], \",  a[1,:].shape =\", a[1,:].shape, \"a 1-D array\")\n",
    "# same as\n",
    "print(\"a[1]   = \", a[1],   \",  a[1].shape   =\", a[1].shape, \"a 1-D array\")\n"
   ]
  }
 ],
 "metadata": {
  "kernelspec": {
   "display_name": "ANGIntroML",
   "language": "python",
   "name": "python3"
  },
  "language_info": {
   "codemirror_mode": {
    "name": "ipython",
    "version": 3
   },
   "file_extension": ".py",
   "mimetype": "text/x-python",
   "name": "python",
   "nbconvert_exporter": "python",
   "pygments_lexer": "ipython3",
   "version": "3.12.1"
  }
 },
 "nbformat": 4,
 "nbformat_minor": 2
}
